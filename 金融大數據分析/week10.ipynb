{
 "cells": [
  {
   "cell_type": "code",
   "execution_count": 1,
   "metadata": {
    "id": "NuX5x19rIsA5"
   },
   "outputs": [],
   "source": [
    "from datasets import load_dataset\n",
    "from transformers import TrainingArguments, Trainer, AutoTokenizer, AutoModelForSequenceClassification\n",
    "from transformers import DataCollatorWithPadding\n",
    "import torch\n",
    "import pandas as pd\n",
    "import matplotlib.pyplot as plt"
   ]
  },
  {
   "cell_type": "code",
   "execution_count": 2,
   "metadata": {
    "colab": {
     "base_uri": "https://localhost:8080/"
    },
    "id": "sfQoz73KHvdH",
    "outputId": "debac2af-f323-4b58-a91e-cdd81e33f274"
   },
   "outputs": [
    {
     "name": "stdout",
     "output_type": "stream",
     "text": [
      "{'sentence': 'According to Gran , the company has no plans to move all production to Russia , although that is where the company is growing .', 'label': 1}\n"
     ]
    }
   ],
   "source": [
    "# 加載資料集\n",
    "dataset = load_dataset(\"takala/financial_phrasebank\", \"sentences_allagree\", trust_remote_code=True)\n",
    "\n",
    "# 檢查數據的結構和標籤值\n",
    "print(dataset['train'][0])  # 查看第一個數據樣本"
   ]
  },
  {
   "cell_type": "code",
   "execution_count": 3,
   "metadata": {
    "colab": {
     "base_uri": "https://localhost:8080/",
     "height": 834
    },
    "id": "IWQ41cuFJTJ_",
    "outputId": "c6a70a30-c0b5-462c-ce09-7fa97cff3a52"
   },
   "outputs": [
    {
     "name": "stdout",
     "output_type": "stream",
     "text": [
      "\n",
      "Sample data:\n",
      "                                            sentence  label\n",
      "0  According to Gran , the company has no plans t...      1\n",
      "1  For the last quarter of 2010 , Componenta 's n...      2\n",
      "2  In the third quarter of 2010 , net sales incre...      2\n",
      "3  Operating profit rose to EUR 13.1 mn from EUR ...      2\n",
      "4  Operating profit totalled EUR 21.1 mn , up fro...      2\n",
      "\n",
      "Checking for missing values:\n",
      "sentence    0\n",
      "label       0\n",
      "dtype: int64\n",
      "\n",
      "Label distribution:\n",
      "label\n",
      "1    1391\n",
      "2     570\n",
      "0     303\n",
      "Name: count, dtype: int64\n"
     ]
    },
    {
     "data": {
      "image/png": "[encoded data removed]",
      "text/plain": [
       "<Figure size 800x500 with 1 Axes>"
      ]
     },
     "metadata": {},
     "output_type": "display_data"
    }
   ],
   "source": [
    "# 將資料集轉換為 pandas DataFrame 進行簡單的檢查\n",
    "df = pd.DataFrame(dataset['train'])\n",
    "\n",
    "# EDA: 查看數據分佈\n",
    "print(\"\\nSample data:\")\n",
    "print(df.head())\n",
    "\n",
    "# 查看空值\n",
    "print(\"\\nChecking for missing values:\")\n",
    "print(df.isnull().sum())\n",
    "\n",
    "# 標籤分佈可視化\n",
    "print(\"\\nLabel distribution:\")\n",
    "label_counts = df['label'].value_counts()\n",
    "print(label_counts)\n",
    "\n",
    "plt.figure(figsize=(8, 5))\n",
    "label_counts.plot(kind='bar', color=['skyblue', 'orange', 'green'])\n",
    "plt.title(\"Label Distribution\")\n",
    "plt.xlabel(\"Labels\")\n",
    "plt.ylabel(\"Count\")\n",
    "plt.xticks(rotation=0)\n",
    "plt.show()"
   ]
  },
  {
   "cell_type": "code",
   "execution_count": 4,
   "metadata": {
    "colab": {
     "base_uri": "https://localhost:8080/"
    },
    "id": "NYNpJiloIINE",
    "outputId": "9f453c34-f804-41ed-ce9b-fa2410969457"
   },
   "outputs": [
    {
     "name": "stdout",
     "output_type": "stream",
     "text": [
      "{'sentence': ['Net sales of Finnish Sanoma Learning & Literature , of Finnish media group Sanoma , decreased by 3.6 % in January-June 2009 totalling EUR 162.8 mn , down from EUR 168.8 mn in the corresponding period in 2008 .', \"Aspo 's Group structure and business operations are continually developed without any predefined schedules .\", 'The medium-term operative targets of the company remain unchanged .', 'Under the agreement , Larox will transfer 10 employees within engineering and documentation related to delivery projects and product maintenance in Finland to Etteplan as of January 1 , 2007 .', 'Apartments of YIT Home may be purchased in 5 regions of Russia , where YIT subsidiaries carry out their activities : Moscow and Moscow region , St. Petersburg , Ekaterinburg , Kazan and Rostov-on-Don .', \"`` These developments partly reflect the government 's higher activity in the field of dividend policy . ''\", 'Fortum had previously bought the state-held stake in TGK-10 from RAO UES during its reform .', 'To see a slide show of all the newest product releases from Fiskars .', 'In the sinter plant , limestone and coke breeze are mixed with the iron ore concentrate and sintered into lump form or sinter for use in the blast furnaces as a raw material for iron-making .', 'Cash flow from operations totalled EUR 7.4 mn , compared to a negative EUR 68.6 mn in the second quarter of 2008 .'], 'label': [0, 1, 1, 1, 1, 1, 1, 1, 1, 2]}\n"
     ]
    }
   ],
   "source": [
    "# 資料標籤映射\n",
    "label_map = {\"negative\": 0, \"neutral\": 1, \"positive\": 2}\n",
    "\n",
    "# 分割訓練與測試集\n",
    "dataset = dataset[\"train\"].train_test_split(test_size=0.2)\n",
    "\n",
    "print(dataset['train'][:10])"
   ]
  },
  {
   "cell_type": "code",
   "execution_count": 5,
   "metadata": {
    "id": "b2WXnQNaJMCd"
   },
   "outputs": [],
   "source": [
    "import os\n",
    "os.environ[\"WANDB_DISABLED\"] = \"true\""
   ]
  },
  {
   "cell_type": "code",
   "execution_count": 6,
   "metadata": {},
   "outputs": [],
   "source": [
    "device = torch.device(\"cuda\" if torch.cuda.is_available() else \"cpu\")"
   ]
  },
  {
   "cell_type": "code",
   "execution_count": 7,
   "metadata": {},
   "outputs": [
    {
     "name": "stdout",
     "output_type": "stream",
     "text": [
      "Accelerate 版本: 1.1.1\n"
     ]
    }
   ],
   "source": [
    "import accelerate\n",
    "print(\"Accelerate 版本:\", accelerate.__version__)\n"
   ]
  },
  {
   "cell_type": "code",
   "execution_count": 8,
   "metadata": {},
   "outputs": [
    {
     "name": "stdout",
     "output_type": "stream",
     "text": [
      "GPU 0: NVIDIA GeForce RTX 3050\n"
     ]
    }
   ],
   "source": [
    "for i in range(torch.cuda.device_count()):\n",
    "    print(f\"GPU {i}: {torch.cuda.get_device_name(i)}\")"
   ]
  },
  {
   "cell_type": "code",
   "execution_count": 9,
   "metadata": {
    "colab": {
     "base_uri": "https://localhost:8080/",
     "height": 174,
     "referenced_widgets": [
      "bf4e4bc3963e401f82092c84e63639ae",
      "f16dee477cf4412fa468907ca65f16a7",
      "d0859e6bf12f4870b9315ec833f87d15",
      "36a53b60e1f24b28bca00fba0972abe8",
      "3f0e396a2e564f10bf7634dc91897fdd",
      "6e5c2be97ce646d6b80a1210c2009e5e",
      "21815caec5b5425a80ae8b7ced957790",
      "02b4441f67644ae59c539ac4657b2f96",
      "5767d94f3bd54ea59d910d621696281d",
      "b626aa04b4c641088b5bd73366098503",
      "6106f4d43af4496ca640ee544cd5b2bf",
      "c931bf4df27e4da3b6db4d3b950ac4fb",
      "891ddf65aca2460d923316401038bf21",
      "ddae4243f03540bf8471d287a6d04828",
      "7f76c60a9cde4d91b913acd193e763b7",
      "0deb3c73492f41bcbe70fd332910db3e",
      "eed5f15a290d44dda2acff489637681a",
      "ab54ea7b5f1e4046984ffdfe7ba41842",
      "84880bb9d1254652bd8551b1d460716a",
      "b5f29ea84657463d915b7d5b9f173343",
      "04798981c398430ab6f927e820d0576b",
      "fb73d0aaba184b929b5bbae10022d17f"
     ]
    },
    "id": "0uGSdyh1H6wW",
    "outputId": "bdcfae44-a92e-4bf3-b371-8b3e5e8f943e"
   },
   "outputs": [
    {
     "data": {
      "application/vnd.jupyter.widget-view+json": {
       "model_id": "1c8566adef8544cbba8b65923a12b456",
       "version_major": 2,
       "version_minor": 0
      },
      "text/plain": [
       "Map:   0%|          | 0/1811 [00:00<?, ? examples/s]"
      ]
     },
     "metadata": {},
     "output_type": "display_data"
    },
    {
     "data": {
      "application/vnd.jupyter.widget-view+json": {
       "model_id": "48f61af0773e427da99cf775ccf461a5",
       "version_major": 2,
       "version_minor": 0
      },
      "text/plain": [
       "Map:   0%|          | 0/453 [00:00<?, ? examples/s]"
      ]
     },
     "metadata": {},
     "output_type": "display_data"
    },
    {
     "name": "stderr",
     "output_type": "stream",
     "text": [
      "Some weights of BertForSequenceClassification were not initialized from the model checkpoint at bert-base-uncased and are newly initialized: ['classifier.bias', 'classifier.weight']\n",
      "You should probably TRAIN this model on a down-stream task to be able to use it for predictions and inference.\n"
     ]
    },
    {
     "data": {
      "application/vnd.jupyter.widget-view+json": {
       "model_id": "af722f7ec0674c499509bbda5413e7d5",
       "version_major": 2,
       "version_minor": 0
      },
      "text/plain": [
       "  0%|          | 0/1359 [00:00<?, ?it/s]"
      ]
     },
     "metadata": {},
     "output_type": "display_data"
    },
    {
     "name": "stdout",
     "output_type": "stream",
     "text": [
      "{'loss': 1.1614, 'grad_norm': 23.086448669433594, 'learning_rate': 1.985283296541575e-05, 'epoch': 0.02}\n",
      "{'loss': 0.9171, 'grad_norm': 15.801631927490234, 'learning_rate': 1.9705665930831493e-05, 'epoch': 0.04}\n",
      "{'loss': 0.7591, 'grad_norm': 5.620291709899902, 'learning_rate': 1.9558498896247242e-05, 'epoch': 0.07}\n",
      "{'loss': 0.7821, 'grad_norm': 7.368476390838623, 'learning_rate': 1.9411331861662988e-05, 'epoch': 0.09}\n",
      "{'loss': 0.7342, 'grad_norm': 9.257476806640625, 'learning_rate': 1.9264164827078734e-05, 'epoch': 0.11}\n",
      "{'loss': 0.5369, 'grad_norm': 5.847714900970459, 'learning_rate': 1.9116997792494483e-05, 'epoch': 0.13}\n",
      "{'loss': 0.5475, 'grad_norm': 2.054258108139038, 'learning_rate': 1.896983075791023e-05, 'epoch': 0.15}\n",
      "{'loss': 0.4779, 'grad_norm': 9.223369598388672, 'learning_rate': 1.8822663723325975e-05, 'epoch': 0.18}\n",
      "{'loss': 0.2985, 'grad_norm': 3.670071601867676, 'learning_rate': 1.8675496688741724e-05, 'epoch': 0.2}\n",
      "{'loss': 0.561, 'grad_norm': 5.286404609680176, 'learning_rate': 1.852832965415747e-05, 'epoch': 0.22}\n",
      "{'loss': 0.4113, 'grad_norm': 6.446040630340576, 'learning_rate': 1.8381162619573215e-05, 'epoch': 0.24}\n",
      "{'loss': 0.5404, 'grad_norm': 6.851258277893066, 'learning_rate': 1.8233995584988965e-05, 'epoch': 0.26}\n",
      "{'loss': 0.6871, 'grad_norm': 75.45945739746094, 'learning_rate': 1.808682855040471e-05, 'epoch': 0.29}\n",
      "{'loss': 0.5761, 'grad_norm': 6.263363838195801, 'learning_rate': 1.7939661515820456e-05, 'epoch': 0.31}\n",
      "{'loss': 0.4533, 'grad_norm': 24.61541175842285, 'learning_rate': 1.7792494481236205e-05, 'epoch': 0.33}\n",
      "{'loss': 0.4343, 'grad_norm': 2.4398298263549805, 'learning_rate': 1.764532744665195e-05, 'epoch': 0.35}\n",
      "{'loss': 0.3249, 'grad_norm': 46.91488265991211, 'learning_rate': 1.7498160412067697e-05, 'epoch': 0.38}\n",
      "{'loss': 0.2834, 'grad_norm': 63.072967529296875, 'learning_rate': 1.7350993377483446e-05, 'epoch': 0.4}\n",
      "{'loss': 0.3467, 'grad_norm': 1.9206862449645996, 'learning_rate': 1.7203826342899192e-05, 'epoch': 0.42}\n",
      "{'loss': 0.4248, 'grad_norm': 11.827829360961914, 'learning_rate': 1.7056659308314938e-05, 'epoch': 0.44}\n",
      "{'loss': 0.1558, 'grad_norm': 0.25616779923439026, 'learning_rate': 1.6909492273730687e-05, 'epoch': 0.46}\n",
      "{'loss': 0.4533, 'grad_norm': 4.766879558563232, 'learning_rate': 1.6762325239146433e-05, 'epoch': 0.49}\n",
      "{'loss': 0.2726, 'grad_norm': 6.458898544311523, 'learning_rate': 1.661515820456218e-05, 'epoch': 0.51}\n",
      "{'loss': 0.2074, 'grad_norm': 1.012926697731018, 'learning_rate': 1.6467991169977928e-05, 'epoch': 0.53}\n",
      "{'loss': 0.1969, 'grad_norm': 0.17892926931381226, 'learning_rate': 1.6320824135393673e-05, 'epoch': 0.55}\n",
      "{'loss': 0.6611, 'grad_norm': 1.2878023386001587, 'learning_rate': 1.617365710080942e-05, 'epoch': 0.57}\n",
      "{'loss': 0.1386, 'grad_norm': 7.028701305389404, 'learning_rate': 1.6026490066225165e-05, 'epoch': 0.6}\n",
      "{'loss': 0.315, 'grad_norm': 0.7472508549690247, 'learning_rate': 1.5879323031640914e-05, 'epoch': 0.62}\n",
      "{'loss': 0.4828, 'grad_norm': 129.86834716796875, 'learning_rate': 1.573215599705666e-05, 'epoch': 0.64}\n",
      "{'loss': 0.3335, 'grad_norm': 1.6905457973480225, 'learning_rate': 1.5584988962472406e-05, 'epoch': 0.66}\n",
      "{'loss': 0.1019, 'grad_norm': 0.09647928178310394, 'learning_rate': 1.5437821927888155e-05, 'epoch': 0.68}\n",
      "{'loss': 0.1076, 'grad_norm': 0.5190557241439819, 'learning_rate': 1.52906548933039e-05, 'epoch': 0.71}\n",
      "{'loss': 0.0474, 'grad_norm': 0.27613088488578796, 'learning_rate': 1.5143487858719648e-05, 'epoch': 0.73}\n",
      "{'loss': 0.2806, 'grad_norm': 26.167314529418945, 'learning_rate': 1.4996320824135396e-05, 'epoch': 0.75}\n",
      "{'loss': 0.058, 'grad_norm': 4.059624195098877, 'learning_rate': 1.4849153789551143e-05, 'epoch': 0.77}\n",
      "{'loss': 0.0763, 'grad_norm': 0.1196255013346672, 'learning_rate': 1.4701986754966889e-05, 'epoch': 0.79}\n",
      "{'loss': 0.0176, 'grad_norm': 0.05646867677569389, 'learning_rate': 1.4554819720382636e-05, 'epoch': 0.82}\n",
      "{'loss': 0.1057, 'grad_norm': 0.13393805921077728, 'learning_rate': 1.4407652685798384e-05, 'epoch': 0.84}\n",
      "{'loss': 0.6107, 'grad_norm': 11.62035083770752, 'learning_rate': 1.4260485651214128e-05, 'epoch': 0.86}\n",
      "{'loss': 0.1856, 'grad_norm': 0.09132961183786392, 'learning_rate': 1.4113318616629876e-05, 'epoch': 0.88}\n",
      "{'loss': 0.1398, 'grad_norm': 0.19745776057243347, 'learning_rate': 1.3966151582045625e-05, 'epoch': 0.91}\n",
      "{'loss': 0.0031, 'grad_norm': 0.026533249765634537, 'learning_rate': 1.3818984547461369e-05, 'epoch': 0.93}\n",
      "{'loss': 0.3343, 'grad_norm': 8.091667175292969, 'learning_rate': 1.3671817512877116e-05, 'epoch': 0.95}\n",
      "{'loss': 0.2154, 'grad_norm': 0.03056648187339306, 'learning_rate': 1.3524650478292864e-05, 'epoch': 0.97}\n",
      "{'loss': 0.1925, 'grad_norm': 0.02392471395432949, 'learning_rate': 1.337748344370861e-05, 'epoch': 0.99}\n"
     ]
    },
    {
     "data": {
      "application/vnd.jupyter.widget-view+json": {
       "model_id": "662cd5123dd64fbaa9b01dd26fe8a81e",
       "version_major": 2,
       "version_minor": 0
      },
      "text/plain": [
       "  0%|          | 0/57 [00:00<?, ?it/s]"
      ]
     },
     "metadata": {},
     "output_type": "display_data"
    },
    {
     "name": "stdout",
     "output_type": "stream",
     "text": [
      "{'eval_loss': 0.1633351594209671, 'eval_runtime': 10.7022, 'eval_samples_per_second': 42.328, 'eval_steps_per_second': 5.326, 'epoch': 1.0}\n",
      "{'loss': 0.0035, 'grad_norm': 0.03371059522032738, 'learning_rate': 1.3230316409124357e-05, 'epoch': 1.02}\n",
      "{'loss': 0.0085, 'grad_norm': 0.0217888280749321, 'learning_rate': 1.3083149374540105e-05, 'epoch': 1.04}\n",
      "{'loss': 0.0033, 'grad_norm': 0.06121065467596054, 'learning_rate': 1.293598233995585e-05, 'epoch': 1.06}\n",
      "{'loss': 0.3954, 'grad_norm': 0.8409738540649414, 'learning_rate': 1.2788815305371598e-05, 'epoch': 1.08}\n",
      "{'loss': 0.0855, 'grad_norm': 0.14960232377052307, 'learning_rate': 1.2641648270787345e-05, 'epoch': 1.1}\n",
      "{'loss': 0.185, 'grad_norm': 0.08310596644878387, 'learning_rate': 1.2494481236203091e-05, 'epoch': 1.13}\n",
      "{'loss': 0.1399, 'grad_norm': 0.04592049494385719, 'learning_rate': 1.2347314201618839e-05, 'epoch': 1.15}\n",
      "{'loss': 0.256, 'grad_norm': 0.04472832381725311, 'learning_rate': 1.2200147167034586e-05, 'epoch': 1.17}\n",
      "{'loss': 0.1366, 'grad_norm': 0.10931781679391861, 'learning_rate': 1.2052980132450332e-05, 'epoch': 1.19}\n",
      "{'loss': 0.014, 'grad_norm': 0.07455947250127792, 'learning_rate': 1.190581309786608e-05, 'epoch': 1.21}\n",
      "{'loss': 0.0035, 'grad_norm': 0.23038235306739807, 'learning_rate': 1.1758646063281827e-05, 'epoch': 1.24}\n",
      "{'loss': 0.0175, 'grad_norm': 0.11369721591472626, 'learning_rate': 1.1611479028697573e-05, 'epoch': 1.26}\n",
      "{'loss': 0.1431, 'grad_norm': 0.017813537269830704, 'learning_rate': 1.146431199411332e-05, 'epoch': 1.28}\n",
      "{'loss': 0.1413, 'grad_norm': 0.07335573434829712, 'learning_rate': 1.1317144959529068e-05, 'epoch': 1.3}\n",
      "{'loss': 0.1176, 'grad_norm': 0.0172054935246706, 'learning_rate': 1.1169977924944813e-05, 'epoch': 1.32}\n",
      "{'loss': 0.1482, 'grad_norm': 0.06707002222537994, 'learning_rate': 1.102281089036056e-05, 'epoch': 1.35}\n",
      "{'loss': 0.0032, 'grad_norm': 0.09604090452194214, 'learning_rate': 1.0875643855776308e-05, 'epoch': 1.37}\n",
      "{'loss': 0.3092, 'grad_norm': 0.15302982926368713, 'learning_rate': 1.0728476821192052e-05, 'epoch': 1.39}\n",
      "{'loss': 0.3406, 'grad_norm': 27.819650650024414, 'learning_rate': 1.0581309786607802e-05, 'epoch': 1.41}\n",
      "{'loss': 0.1475, 'grad_norm': 0.25428009033203125, 'learning_rate': 1.0434142752023549e-05, 'epoch': 1.43}\n",
      "{'loss': 0.1585, 'grad_norm': 0.05430800840258598, 'learning_rate': 1.0286975717439293e-05, 'epoch': 1.46}\n",
      "{'loss': 0.0629, 'grad_norm': 0.050232697278261185, 'learning_rate': 1.013980868285504e-05, 'epoch': 1.48}\n",
      "{'loss': 0.0043, 'grad_norm': 0.08906126022338867, 'learning_rate': 9.992641648270788e-06, 'epoch': 1.5}\n",
      "{'loss': 0.1073, 'grad_norm': 0.8655175566673279, 'learning_rate': 9.845474613686536e-06, 'epoch': 1.52}\n",
      "{'loss': 0.1244, 'grad_norm': 0.03811010718345642, 'learning_rate': 9.698307579102281e-06, 'epoch': 1.55}\n",
      "{'loss': 0.0033, 'grad_norm': 3.5378384590148926, 'learning_rate': 9.551140544518029e-06, 'epoch': 1.57}\n",
      "{'loss': 0.0473, 'grad_norm': 0.028429802507162094, 'learning_rate': 9.403973509933776e-06, 'epoch': 1.59}\n",
      "{'loss': 0.152, 'grad_norm': 0.04852830618619919, 'learning_rate': 9.256806475349522e-06, 'epoch': 1.61}\n",
      "{'loss': 0.0024, 'grad_norm': 0.07526680082082748, 'learning_rate': 9.10963944076527e-06, 'epoch': 1.63}\n",
      "{'loss': 0.0021, 'grad_norm': 0.23370356857776642, 'learning_rate': 8.962472406181017e-06, 'epoch': 1.66}\n",
      "{'loss': 0.0034, 'grad_norm': 0.009659618139266968, 'learning_rate': 8.815305371596763e-06, 'epoch': 1.68}\n",
      "{'loss': 0.0015, 'grad_norm': 0.00953538529574871, 'learning_rate': 8.668138337012509e-06, 'epoch': 1.7}\n",
      "{'loss': 0.0352, 'grad_norm': 0.1154385507106781, 'learning_rate': 8.520971302428256e-06, 'epoch': 1.72}\n",
      "{'loss': 0.1357, 'grad_norm': 0.0309585090726614, 'learning_rate': 8.373804267844004e-06, 'epoch': 1.74}\n",
      "{'loss': 0.0015, 'grad_norm': 0.043036241084337234, 'learning_rate': 8.22663723325975e-06, 'epoch': 1.77}\n",
      "{'loss': 0.0022, 'grad_norm': 0.05649213120341301, 'learning_rate': 8.079470198675497e-06, 'epoch': 1.79}\n",
      "{'loss': 0.1703, 'grad_norm': 0.009211854077875614, 'learning_rate': 7.932303164091244e-06, 'epoch': 1.81}\n",
      "{'loss': 0.0099, 'grad_norm': 0.026894250884652138, 'learning_rate': 7.785136129506992e-06, 'epoch': 1.83}\n",
      "{'loss': 0.463, 'grad_norm': 0.11381322145462036, 'learning_rate': 7.637969094922738e-06, 'epoch': 1.85}\n",
      "{'loss': 0.0943, 'grad_norm': 0.5791004300117493, 'learning_rate': 7.490802060338484e-06, 'epoch': 1.88}\n",
      "{'loss': 0.0586, 'grad_norm': 0.0362645722925663, 'learning_rate': 7.343635025754232e-06, 'epoch': 1.9}\n",
      "{'loss': 0.0493, 'grad_norm': 0.06781598925590515, 'learning_rate': 7.196467991169978e-06, 'epoch': 1.92}\n",
      "{'loss': 0.1386, 'grad_norm': 0.02814372256398201, 'learning_rate': 7.049300956585725e-06, 'epoch': 1.94}\n",
      "{'loss': 0.0024, 'grad_norm': 0.05723071098327637, 'learning_rate': 6.9021339220014725e-06, 'epoch': 1.96}\n",
      "{'loss': 0.0021, 'grad_norm': 0.05424974113702774, 'learning_rate': 6.754966887417219e-06, 'epoch': 1.99}\n"
     ]
    },
    {
     "data": {
      "application/vnd.jupyter.widget-view+json": {
       "model_id": "f355d84e866f4f8594de6393f0299166",
       "version_major": 2,
       "version_minor": 0
      },
      "text/plain": [
       "  0%|          | 0/57 [00:00<?, ?it/s]"
      ]
     },
     "metadata": {},
     "output_type": "display_data"
    },
    {
     "name": "stdout",
     "output_type": "stream",
     "text": [
      "{'eval_loss': 0.12121820449829102, 'eval_runtime': 10.6447, 'eval_samples_per_second': 42.557, 'eval_steps_per_second': 5.355, 'epoch': 2.0}\n",
      "{'loss': 0.0013, 'grad_norm': 0.006402687169611454, 'learning_rate': 6.607799852832966e-06, 'epoch': 2.01}\n",
      "{'loss': 0.157, 'grad_norm': 0.08738812059164047, 'learning_rate': 6.460632818248713e-06, 'epoch': 2.03}\n",
      "{'loss': 0.0159, 'grad_norm': 40.28721618652344, 'learning_rate': 6.31346578366446e-06, 'epoch': 2.05}\n",
      "{'loss': 0.0017, 'grad_norm': 0.06137020140886307, 'learning_rate': 6.1662987490802066e-06, 'epoch': 2.08}\n",
      "{'loss': 0.1389, 'grad_norm': 0.12391295284032822, 'learning_rate': 6.019131714495954e-06, 'epoch': 2.1}\n",
      "{'loss': 0.1055, 'grad_norm': 0.04534090682864189, 'learning_rate': 5.871964679911701e-06, 'epoch': 2.12}\n",
      "{'loss': 0.0015, 'grad_norm': 0.07395631819963455, 'learning_rate': 5.7247976453274465e-06, 'epoch': 2.14}\n",
      "{'loss': 0.0011, 'grad_norm': 0.02031750977039337, 'learning_rate': 5.577630610743194e-06, 'epoch': 2.16}\n",
      "{'loss': 0.0179, 'grad_norm': 77.46635437011719, 'learning_rate': 5.430463576158941e-06, 'epoch': 2.19}\n",
      "{'loss': 0.1216, 'grad_norm': 0.05061667039990425, 'learning_rate': 5.283296541574687e-06, 'epoch': 2.21}\n",
      "{'loss': 0.1348, 'grad_norm': 0.06926663219928741, 'learning_rate': 5.136129506990435e-06, 'epoch': 2.23}\n",
      "{'loss': 0.1096, 'grad_norm': 0.015960173681378365, 'learning_rate': 4.988962472406181e-06, 'epoch': 2.25}\n",
      "{'loss': 0.0011, 'grad_norm': 0.03267243504524231, 'learning_rate': 4.841795437821928e-06, 'epoch': 2.27}\n",
      "{'loss': 0.0012, 'grad_norm': 0.040983375161886215, 'learning_rate': 4.694628403237675e-06, 'epoch': 2.3}\n",
      "{'loss': 0.0012, 'grad_norm': 0.01650816947221756, 'learning_rate': 4.547461368653422e-06, 'epoch': 2.32}\n",
      "{'loss': 0.0045, 'grad_norm': 0.27770325541496277, 'learning_rate': 4.400294334069169e-06, 'epoch': 2.34}\n",
      "{'loss': 0.0013, 'grad_norm': 0.016438927501440048, 'learning_rate': 4.253127299484916e-06, 'epoch': 2.36}\n",
      "{'loss': 0.0652, 'grad_norm': 0.01935078389942646, 'learning_rate': 4.105960264900663e-06, 'epoch': 2.38}\n",
      "{'loss': 0.001, 'grad_norm': 0.006435025949031115, 'learning_rate': 3.9587932303164095e-06, 'epoch': 2.41}\n",
      "{'loss': 0.0012, 'grad_norm': 0.01533885020762682, 'learning_rate': 3.8116261957321565e-06, 'epoch': 2.43}\n",
      "{'loss': 0.0014, 'grad_norm': 0.007251820992678404, 'learning_rate': 3.664459161147903e-06, 'epoch': 2.45}\n",
      "{'loss': 0.188, 'grad_norm': 0.006368372589349747, 'learning_rate': 3.5172921265636502e-06, 'epoch': 2.47}\n",
      "{'loss': 0.0009, 'grad_norm': 0.01792016439139843, 'learning_rate': 3.370125091979397e-06, 'epoch': 2.49}\n",
      "{'loss': 0.0012, 'grad_norm': 0.006234073080122471, 'learning_rate': 3.2229580573951435e-06, 'epoch': 2.52}\n",
      "{'loss': 0.0321, 'grad_norm': 0.018128370866179466, 'learning_rate': 3.0757910228108906e-06, 'epoch': 2.54}\n",
      "{'loss': 0.1396, 'grad_norm': 0.01150042936205864, 'learning_rate': 2.9286239882266376e-06, 'epoch': 2.56}\n",
      "{'loss': 0.0012, 'grad_norm': 0.018579507246613503, 'learning_rate': 2.7814569536423843e-06, 'epoch': 2.58}\n",
      "{'loss': 0.0012, 'grad_norm': 0.017159277573227882, 'learning_rate': 2.6342899190581313e-06, 'epoch': 2.6}\n",
      "{'loss': 0.0761, 'grad_norm': 0.0935637354850769, 'learning_rate': 2.4871228844738784e-06, 'epoch': 2.63}\n",
      "{'loss': 0.0011, 'grad_norm': 0.027600295841693878, 'learning_rate': 2.339955849889625e-06, 'epoch': 2.65}\n",
      "{'loss': 0.0117, 'grad_norm': 0.1611185371875763, 'learning_rate': 2.1927888153053717e-06, 'epoch': 2.67}\n",
      "{'loss': 0.0013, 'grad_norm': 0.007907473482191563, 'learning_rate': 2.0456217807211187e-06, 'epoch': 2.69}\n",
      "{'loss': 0.001, 'grad_norm': 0.01837695576250553, 'learning_rate': 1.8984547461368656e-06, 'epoch': 2.72}\n",
      "{'loss': 0.1244, 'grad_norm': 0.013845582492649555, 'learning_rate': 1.7512877115526122e-06, 'epoch': 2.74}\n",
      "{'loss': 0.001, 'grad_norm': 0.005525542888790369, 'learning_rate': 1.6041206769683593e-06, 'epoch': 2.76}\n",
      "{'loss': 0.1544, 'grad_norm': 0.034748680889606476, 'learning_rate': 1.456953642384106e-06, 'epoch': 2.78}\n",
      "{'loss': 0.0015, 'grad_norm': 0.01580098643898964, 'learning_rate': 1.3097866077998532e-06, 'epoch': 2.8}\n",
      "{'loss': 0.0009, 'grad_norm': 0.01342241745442152, 'learning_rate': 1.1626195732155998e-06, 'epoch': 2.83}\n",
      "{'loss': 0.0013, 'grad_norm': 0.02162965014576912, 'learning_rate': 1.0154525386313466e-06, 'epoch': 2.85}\n",
      "{'loss': 0.15, 'grad_norm': 0.01635328307747841, 'learning_rate': 8.682855040470935e-07, 'epoch': 2.87}\n",
      "{'loss': 0.001, 'grad_norm': 0.016913117840886116, 'learning_rate': 7.211184694628403e-07, 'epoch': 2.89}\n",
      "{'loss': 0.1272, 'grad_norm': 0.016135621815919876, 'learning_rate': 5.739514348785873e-07, 'epoch': 2.91}\n",
      "{'loss': 0.0009, 'grad_norm': 0.028362493962049484, 'learning_rate': 4.267844002943341e-07, 'epoch': 2.94}\n",
      "{'loss': 0.0056, 'grad_norm': 0.12168111652135849, 'learning_rate': 2.79617365710081e-07, 'epoch': 2.96}\n",
      "{'loss': 0.0009, 'grad_norm': 0.21372100710868835, 'learning_rate': 1.3245033112582784e-07, 'epoch': 2.98}\n"
     ]
    },
    {
     "data": {
      "application/vnd.jupyter.widget-view+json": {
       "model_id": "8ba56f754df043a394e9efbdc0cc4383",
       "version_major": 2,
       "version_minor": 0
      },
      "text/plain": [
       "  0%|          | 0/57 [00:00<?, ?it/s]"
      ]
     },
     "metadata": {},
     "output_type": "display_data"
    },
    {
     "name": "stdout",
     "output_type": "stream",
     "text": [
      "{'eval_loss': 0.12521818280220032, 'eval_runtime': 10.6622, 'eval_samples_per_second': 42.487, 'eval_steps_per_second': 5.346, 'epoch': 3.0}\n",
      "{'train_runtime': 534.3508, 'train_samples_per_second': 10.167, 'train_steps_per_second': 2.543, 'train_loss': 0.1724962815333972, 'epoch': 3.0}\n"
     ]
    },
    {
     "data": {
      "text/plain": [
       "TrainOutput(global_step=1359, training_loss=0.1724962815333972, metrics={'train_runtime': 534.3508, 'train_samples_per_second': 10.167, 'train_steps_per_second': 2.543, 'total_flos': 1429495198516224.0, 'train_loss': 0.1724962815333972, 'epoch': 3.0})"
      ]
     },
     "execution_count": 9,
     "metadata": {},
     "output_type": "execute_result"
    }
   ],
   "source": [
    "# 初始化分詞器\n",
    "tokenizer = AutoTokenizer.from_pretrained(\"bert-base-uncased\")\n",
    "\n",
    "# 資料分詞與編碼\n",
    "def tokenize_function(examples):\n",
    "    return tokenizer(examples[\"sentence\"], padding=\"max_length\", truncation=True)\n",
    "\n",
    "encoded_dataset = dataset.map(tokenize_function, batched=True)\n",
    "encoded_dataset = encoded_dataset.remove_columns([\"sentence\"])\n",
    "encoded_dataset = encoded_dataset.rename_column(\"label\", \"labels\")\n",
    "encoded_dataset.set_format(\"torch\")\n",
    "\n",
    "# 初始化模型\n",
    "model = AutoModelForSequenceClassification.from_pretrained(\"bert-base-uncased\", num_labels=3)\n",
    "model.to(device)\n",
    "\n",
    "# 訓練參數設置\n",
    "training_args = TrainingArguments(\n",
    "    output_dir=\"./results\",\n",
    "    eval_strategy=\"epoch\",\n",
    "    learning_rate=2e-5,\n",
    "    per_device_train_batch_size=4,\n",
    "    num_train_epochs=3,\n",
    "    weight_decay=0.01,\n",
    "    save_strategy=\"epoch\",\n",
    "    logging_dir=\"./logs\",\n",
    "    logging_steps=10,\n",
    "    run_name=\"financial_sentiment_analysis\",\n",
    "    report_to=\"none\"\n",
    ")\n",
    "\n",
    "data_collator = DataCollatorWithPadding(tokenizer=tokenizer)\n",
    "\n",
    "# 初始化 Trainer\n",
    "trainer = Trainer(\n",
    "    model=model,\n",
    "    args=training_args,\n",
    "    train_dataset=encoded_dataset[\"train\"],\n",
    "    eval_dataset=encoded_dataset[\"test\"],\n",
    "    data_collator=data_collator,\n",
    ")\n",
    "\n",
    "# 訓練模型\n",
    "trainer.train()\n"
   ]
  },
  {
   "cell_type": "code",
   "execution_count": 10,
   "metadata": {
    "id": "GRJr9VuRJhMc"
   },
   "outputs": [
    {
     "name": "stdout",
     "output_type": "stream",
     "text": [
      "['Positive', 'Negative', 'Positive']\n"
     ]
    }
   ],
   "source": [
    "# 測試數據\n",
    "test_texts = [\n",
    "    \"The company's profit has increased significantly this quarter.\",\n",
    "    \"The increase in costs negatively affected the revenue.\",\n",
    "    \"The company’s performance remained stable.\",\n",
    "]\n",
    "\n",
    "# 分詞與編碼\n",
    "test_encodings = tokenizer(test_texts, truncation=True, padding=True, return_tensors=\"pt\").to(\"cuda\")\n",
    "\n",
    "# 模型推論\n",
    "model.eval()\n",
    "outputs = model(**test_encodings)\n",
    "\n",
    "# 取得預測結果\n",
    "preds = torch.argmax(outputs.logits, dim=1).cpu().numpy()\n",
    "\n",
    "# 將數字標籤轉換為文字標籤\n",
    "label_map_reverse = {v: k.capitalize() for k, v in label_map.items()}\n",
    "predicted_labels = [label_map_reverse[pred] for pred in preds]\n",
    "\n",
    "# 打印結果\n",
    "print(predicted_labels)"
   ]
  }
 ],
 "metadata": {
  "colab": {
   "provenance": []
  },
  "kernelspec": {
   "display_name": "pytorch_transformer_env",
   "language": "python",
   "name": "python3"
  },
  "language_info": {
   "codemirror_mode": {
    "name": "ipython",
    "version": 3
   },
   "file_extension": ".py",
   "mimetype": "text/x-python",
   "name": "python",
   "nbconvert_exporter": "python",
   "pygments_lexer": "ipython3",
   "version": "3.10.15"
  },
  "widgets": {
   "application/vnd.jupyter.widget-state+json": {
    "02b4441f67644ae59c539ac4657b2f96": {
     "model_module": "@jupyter-widgets/base",
     "model_module_version": "1.2.0",
     "model_name": "LayoutModel",
     "state": {
      "_model_module": "@jupyter-widgets/base",
      "_model_module_version": "1.2.0",
      "_model_name": "LayoutModel",
      "_view_count": null,
      "_view_module": "@jupyter-widgets/base",
      "_view_module_version": "1.2.0",
      "_view_name": "LayoutView",
      "align_content": null,
      "align_items": null,
      "align_self": null,
      "border": null,
      "bottom": null,
      "display": null,
      "flex": null,
      "flex_flow": null,
      "grid_area": null,
      "grid_auto_columns": null,
      "grid_auto_flow": null,
      "grid_auto_rows": null,
      "grid_column": null,
      "grid_gap": null,
      "grid_row": null,
      "grid_template_areas": null,
      "grid_template_columns": null,
      "grid_template_rows": null,
      "height": null,
      "justify_content": null,
      "justify_items": null,
      "left": null,
      "margin": null,
      "max_height": null,
      "max_width": null,
      "min_height": null,
      "min_width": null,
      "object_fit": null,
      "object_position": null,
      "order": null,
      "overflow": null,
      "overflow_x": null,
      "overflow_y": null,
      "padding": null,
      "right": null,
      "top": null,
      "visibility": null,
      "width": null
     }
    },
    "04798981c398430ab6f927e820d0576b": {
     "model_module": "@jupyter-widgets/base",
     "model_module_version": "1.2.0",
     "model_name": "LayoutModel",
     "state": {
      "_model_module": "@jupyter-widgets/base",
      "_model_module_version": "1.2.0",
      "_model_name": "LayoutModel",
      "_view_count": null,
      "_view_module": "@jupyter-widgets/base",
      "_view_module_version": "1.2.0",
      "_view_name": "LayoutView",
      "align_content": null,
      "align_items": null,
      "align_self": null,
      "border": null,
      "bottom": null,
      "display": null,
      "flex": null,
      "flex_flow": null,
      "grid_area": null,
      "grid_auto_columns": null,
      "grid_auto_flow": null,
      "grid_auto_rows": null,
      "grid_column": null,
      "grid_gap": null,
      "grid_row": null,
      "grid_template_areas": null,
      "grid_template_columns": null,
      "grid_template_rows": null,
      "height": null,
      "justify_content": null,
      "justify_items": null,
      "left": null,
      "margin": null,
      "max_height": null,
      "max_width": null,
      "min_height": null,
      "min_width": null,
      "object_fit": null,
      "object_position": null,
      "order": null,
      "overflow": null,
      "overflow_x": null,
      "overflow_y": null,
      "padding": null,
      "right": null,
      "top": null,
      "visibility": null,
      "width": null
     }
    },
    "0deb3c73492f41bcbe70fd332910db3e": {
     "model_module": "@jupyter-widgets/base",
     "model_module_version": "1.2.0",
     "model_name": "LayoutModel",
     "state": {
      "_model_module": "@jupyter-widgets/base",
      "_model_module_version": "1.2.0",
      "_model_name": "LayoutModel",
      "_view_count": null,
      "_view_module": "@jupyter-widgets/base",
      "_view_module_version": "1.2.0",
      "_view_name": "LayoutView",
      "align_content": null,
      "align_items": null,
      "align_self": null,
      "border": null,
      "bottom": null,
      "display": null,
      "flex": null,
      "flex_flow": null,
      "grid_area": null,
      "grid_auto_columns": null,
      "grid_auto_flow": null,
      "grid_auto_rows": null,
      "grid_column": null,
      "grid_gap": null,
      "grid_row": null,
      "grid_template_areas": null,
      "grid_template_columns": null,
      "grid_template_rows": null,
      "height": null,
      "justify_content": null,
      "justify_items": null,
      "left": null,
      "margin": null,
      "max_height": null,
      "max_width": null,
      "min_height": null,
      "min_width": null,
      "object_fit": null,
      "object_position": null,
      "order": null,
      "overflow": null,
      "overflow_x": null,
      "overflow_y": null,
      "padding": null,
      "right": null,
      "top": null,
      "visibility": null,
      "width": null
     }
    },
    "21815caec5b5425a80ae8b7ced957790": {
     "model_module": "@jupyter-widgets/controls",
     "model_module_version": "1.5.0",
     "model_name": "DescriptionStyleModel",
     "state": {
      "_model_module": "@jupyter-widgets/controls",
      "_model_module_version": "1.5.0",
      "_model_name": "DescriptionStyleModel",
      "_view_count": null,
      "_view_module": "@jupyter-widgets/base",
      "_view_module_version": "1.2.0",
      "_view_name": "StyleView",
      "description_width": ""
     }
    },
    "36a53b60e1f24b28bca00fba0972abe8": {
     "model_module": "@jupyter-widgets/controls",
     "model_module_version": "1.5.0",
     "model_name": "HTMLModel",
     "state": {
      "_dom_classes": [],
      "_model_module": "@jupyter-widgets/controls",
      "_model_module_version": "1.5.0",
      "_model_name": "HTMLModel",
      "_view_count": null,
      "_view_module": "@jupyter-widgets/controls",
      "_view_module_version": "1.5.0",
      "_view_name": "HTMLView",
      "description": "",
      "description_tooltip": null,
      "layout": "IPY_MODEL_b626aa04b4c641088b5bd73366098503",
      "placeholder": "​",
      "style": "IPY_MODEL_6106f4d43af4496ca640ee544cd5b2bf",
      "value": " 1811/1811 [00:03&lt;00:00, 482.13 examples/s]"
     }
    },
    "3f0e396a2e564f10bf7634dc91897fdd": {
     "model_module": "@jupyter-widgets/base",
     "model_module_version": "1.2.0",
     "model_name": "LayoutModel",
     "state": {
      "_model_module": "@jupyter-widgets/base",
      "_model_module_version": "1.2.0",
      "_model_name": "LayoutModel",
      "_view_count": null,
      "_view_module": "@jupyter-widgets/base",
      "_view_module_version": "1.2.0",
      "_view_name": "LayoutView",
      "align_content": null,
      "align_items": null,
      "align_self": null,
      "border": null,
      "bottom": null,
      "display": null,
      "flex": null,
      "flex_flow": null,
      "grid_area": null,
      "grid_auto_columns": null,
      "grid_auto_flow": null,
      "grid_auto_rows": null,
      "grid_column": null,
      "grid_gap": null,
      "grid_row": null,
      "grid_template_areas": null,
      "grid_template_columns": null,
      "grid_template_rows": null,
      "height": null,
      "justify_content": null,
      "justify_items": null,
      "left": null,
      "margin": null,
      "max_height": null,
      "max_width": null,
      "min_height": null,
      "min_width": null,
      "object_fit": null,
      "object_position": null,
      "order": null,
      "overflow": null,
      "overflow_x": null,
      "overflow_y": null,
      "padding": null,
      "right": null,
      "top": null,
      "visibility": null,
      "width": null
     }
    },
    "5767d94f3bd54ea59d910d621696281d": {
     "model_module": "@jupyter-widgets/controls",
     "model_module_version": "1.5.0",
     "model_name": "ProgressStyleModel",
     "state": {
      "_model_module": "@jupyter-widgets/controls",
      "_model_module_version": "1.5.0",
      "_model_name": "ProgressStyleModel",
      "_view_count": null,
      "_view_module": "@jupyter-widgets/base",
      "_view_module_version": "1.2.0",
      "_view_name": "StyleView",
      "bar_color": null,
      "description_width": ""
     }
    },
    "6106f4d43af4496ca640ee544cd5b2bf": {
     "model_module": "@jupyter-widgets/controls",
     "model_module_version": "1.5.0",
     "model_name": "DescriptionStyleModel",
     "state": {
      "_model_module": "@jupyter-widgets/controls",
      "_model_module_version": "1.5.0",
      "_model_name": "DescriptionStyleModel",
      "_view_count": null,
      "_view_module": "@jupyter-widgets/base",
      "_view_module_version": "1.2.0",
      "_view_name": "StyleView",
      "description_width": ""
     }
    },
    "6e5c2be97ce646d6b80a1210c2009e5e": {
     "model_module": "@jupyter-widgets/base",
     "model_module_version": "1.2.0",
     "model_name": "LayoutModel",
     "state": {
      "_model_module": "@jupyter-widgets/base",
      "_model_module_version": "1.2.0",
      "_model_name": "LayoutModel",
      "_view_count": null,
      "_view_module": "@jupyter-widgets/base",
      "_view_module_version": "1.2.0",
      "_view_name": "LayoutView",
      "align_content": null,
      "align_items": null,
      "align_self": null,
      "border": null,
      "bottom": null,
      "display": null,
      "flex": null,
      "flex_flow": null,
      "grid_area": null,
      "grid_auto_columns": null,
      "grid_auto_flow": null,
      "grid_auto_rows": null,
      "grid_column": null,
      "grid_gap": null,
      "grid_row": null,
      "grid_template_areas": null,
      "grid_template_columns": null,
      "grid_template_rows": null,
      "height": null,
      "justify_content": null,
      "justify_items": null,
      "left": null,
      "margin": null,
      "max_height": null,
      "max_width": null,
      "min_height": null,
      "min_width": null,
      "object_fit": null,
      "object_position": null,
      "order": null,
      "overflow": null,
      "overflow_x": null,
      "overflow_y": null,
      "padding": null,
      "right": null,
      "top": null,
      "visibility": null,
      "width": null
     }
    },
    "7f76c60a9cde4d91b913acd193e763b7": {
     "model_module": "@jupyter-widgets/controls",
     "model_module_version": "1.5.0",
     "model_name": "HTMLModel",
     "state": {
      "_dom_classes": [],
      "_model_module": "@jupyter-widgets/controls",
      "_model_module_version": "1.5.0",
      "_model_name": "HTMLModel",
      "_view_count": null,
      "_view_module": "@jupyter-widgets/controls",
      "_view_module_version": "1.5.0",
      "_view_name": "HTMLView",
      "description": "",
      "description_tooltip": null,
      "layout": "IPY_MODEL_04798981c398430ab6f927e820d0576b",
      "placeholder": "​",
      "style": "IPY_MODEL_fb73d0aaba184b929b5bbae10022d17f",
      "value": " 453/453 [00:01&lt;00:00, 352.02 examples/s]"
     }
    },
    "84880bb9d1254652bd8551b1d460716a": {
     "model_module": "@jupyter-widgets/base",
     "model_module_version": "1.2.0",
     "model_name": "LayoutModel",
     "state": {
      "_model_module": "@jupyter-widgets/base",
      "_model_module_version": "1.2.0",
      "_model_name": "LayoutModel",
      "_view_count": null,
      "_view_module": "@jupyter-widgets/base",
      "_view_module_version": "1.2.0",
      "_view_name": "LayoutView",
      "align_content": null,
      "align_items": null,
      "align_self": null,
      "border": null,
      "bottom": null,
      "display": null,
      "flex": null,
      "flex_flow": null,
      "grid_area": null,
      "grid_auto_columns": null,
      "grid_auto_flow": null,
      "grid_auto_rows": null,
      "grid_column": null,
      "grid_gap": null,
      "grid_row": null,
      "grid_template_areas": null,
      "grid_template_columns": null,
      "grid_template_rows": null,
      "height": null,
      "justify_content": null,
      "justify_items": null,
      "left": null,
      "margin": null,
      "max_height": null,
      "max_width": null,
      "min_height": null,
      "min_width": null,
      "object_fit": null,
      "object_position": null,
      "order": null,
      "overflow": null,
      "overflow_x": null,
      "overflow_y": null,
      "padding": null,
      "right": null,
      "top": null,
      "visibility": null,
      "width": null
     }
    },
    "891ddf65aca2460d923316401038bf21": {
     "model_module": "@jupyter-widgets/controls",
     "model_module_version": "1.5.0",
     "model_name": "HTMLModel",
     "state": {
      "_dom_classes": [],
      "_model_module": "@jupyter-widgets/controls",
      "_model_module_version": "1.5.0",
      "_model_name": "HTMLModel",
      "_view_count": null,
      "_view_module": "@jupyter-widgets/controls",
      "_view_module_version": "1.5.0",
      "_view_name": "HTMLView",
      "description": "",
      "description_tooltip": null,
      "layout": "IPY_MODEL_eed5f15a290d44dda2acff489637681a",
      "placeholder": "​",
      "style": "IPY_MODEL_ab54ea7b5f1e4046984ffdfe7ba41842",
      "value": "Map: 100%"
     }
    },
    "ab54ea7b5f1e4046984ffdfe7ba41842": {
     "model_module": "@jupyter-widgets/controls",
     "model_module_version": "1.5.0",
     "model_name": "DescriptionStyleModel",
     "state": {
      "_model_module": "@jupyter-widgets/controls",
      "_model_module_version": "1.5.0",
      "_model_name": "DescriptionStyleModel",
      "_view_count": null,
      "_view_module": "@jupyter-widgets/base",
      "_view_module_version": "1.2.0",
      "_view_name": "StyleView",
      "description_width": ""
     }
    },
    "b5f29ea84657463d915b7d5b9f173343": {
     "model_module": "@jupyter-widgets/controls",
     "model_module_version": "1.5.0",
     "model_name": "ProgressStyleModel",
     "state": {
      "_model_module": "@jupyter-widgets/controls",
      "_model_module_version": "1.5.0",
      "_model_name": "ProgressStyleModel",
      "_view_count": null,
      "_view_module": "@jupyter-widgets/base",
      "_view_module_version": "1.2.0",
      "_view_name": "StyleView",
      "bar_color": null,
      "description_width": ""
     }
    },
    "b626aa04b4c641088b5bd73366098503": {
     "model_module": "@jupyter-widgets/base",
     "model_module_version": "1.2.0",
     "model_name": "LayoutModel",
     "state": {
      "_model_module": "@jupyter-widgets/base",
      "_model_module_version": "1.2.0",
      "_model_name": "LayoutModel",
      "_view_count": null,
      "_view_module": "@jupyter-widgets/base",
      "_view_module_version": "1.2.0",
      "_view_name": "LayoutView",
      "align_content": null,
      "align_items": null,
      "align_self": null,
      "border": null,
      "bottom": null,
      "display": null,
      "flex": null,
      "flex_flow": null,
      "grid_area": null,
      "grid_auto_columns": null,
      "grid_auto_flow": null,
      "grid_auto_rows": null,
      "grid_column": null,
      "grid_gap": null,
      "grid_row": null,
      "grid_template_areas": null,
      "grid_template_columns": null,
      "grid_template_rows": null,
      "height": null,
      "justify_content": null,
      "justify_items": null,
      "left": null,
      "margin": null,
      "max_height": null,
      "max_width": null,
      "min_height": null,
      "min_width": null,
      "object_fit": null,
      "object_position": null,
      "order": null,
      "overflow": null,
      "overflow_x": null,
      "overflow_y": null,
      "padding": null,
      "right": null,
      "top": null,
      "visibility": null,
      "width": null
     }
    },
    "bf4e4bc3963e401f82092c84e63639ae": {
     "model_module": "@jupyter-widgets/controls",
     "model_module_version": "1.5.0",
     "model_name": "HBoxModel",
     "state": {
      "_dom_classes": [],
      "_model_module": "@jupyter-widgets/controls",
      "_model_module_version": "1.5.0",
      "_model_name": "HBoxModel",
      "_view_count": null,
      "_view_module": "@jupyter-widgets/controls",
      "_view_module_version": "1.5.0",
      "_view_name": "HBoxView",
      "box_style": "",
      "children": [
       "IPY_MODEL_f16dee477cf4412fa468907ca65f16a7",
       "IPY_MODEL_d0859e6bf12f4870b9315ec833f87d15",
       "IPY_MODEL_36a53b60e1f24b28bca00fba0972abe8"
      ],
      "layout": "IPY_MODEL_3f0e396a2e564f10bf7634dc91897fdd"
     }
    },
    "c931bf4df27e4da3b6db4d3b950ac4fb": {
     "model_module": "@jupyter-widgets/controls",
     "model_module_version": "1.5.0",
     "model_name": "HBoxModel",
     "state": {
      "_dom_classes": [],
      "_model_module": "@jupyter-widgets/controls",
      "_model_module_version": "1.5.0",
      "_model_name": "HBoxModel",
      "_view_count": null,
      "_view_module": "@jupyter-widgets/controls",
      "_view_module_version": "1.5.0",
      "_view_name": "HBoxView",
      "box_style": "",
      "children": [
       "IPY_MODEL_891ddf65aca2460d923316401038bf21",
       "IPY_MODEL_ddae4243f03540bf8471d287a6d04828",
       "IPY_MODEL_7f76c60a9cde4d91b913acd193e763b7"
      ],
      "layout": "IPY_MODEL_0deb3c73492f41bcbe70fd332910db3e"
     }
    },
    "d0859e6bf12f4870b9315ec833f87d15": {
     "model_module": "@jupyter-widgets/controls",
     "model_module_version": "1.5.0",
     "model_name": "FloatProgressModel",
     "state": {
      "_dom_classes": [],
      "_model_module": "@jupyter-widgets/controls",
      "_model_module_version": "1.5.0",
      "_model_name": "FloatProgressModel",
      "_view_count": null,
      "_view_module": "@jupyter-widgets/controls",
      "_view_module_version": "1.5.0",
      "_view_name": "ProgressView",
      "bar_style": "success",
      "description": "",
      "description_tooltip": null,
      "layout": "IPY_MODEL_02b4441f67644ae59c539ac4657b2f96",
      "max": 1811,
      "min": 0,
      "orientation": "horizontal",
      "style": "IPY_MODEL_5767d94f3bd54ea59d910d621696281d",
      "value": 1811
     }
    },
    "ddae4243f03540bf8471d287a6d04828": {
     "model_module": "@jupyter-widgets/controls",
     "model_module_version": "1.5.0",
     "model_name": "FloatProgressModel",
     "state": {
      "_dom_classes": [],
      "_model_module": "@jupyter-widgets/controls",
      "_model_module_version": "1.5.0",
      "_model_name": "FloatProgressModel",
      "_view_count": null,
      "_view_module": "@jupyter-widgets/controls",
      "_view_module_version": "1.5.0",
      "_view_name": "ProgressView",
      "bar_style": "success",
      "description": "",
      "description_tooltip": null,
      "layout": "IPY_MODEL_84880bb9d1254652bd8551b1d460716a",
      "max": 453,
      "min": 0,
      "orientation": "horizontal",
      "style": "IPY_MODEL_b5f29ea84657463d915b7d5b9f173343",
      "value": 453
     }
    },
    "eed5f15a290d44dda2acff489637681a": {
     "model_module": "@jupyter-widgets/base",
     "model_module_version": "1.2.0",
     "model_name": "LayoutModel",
     "state": {
      "_model_module": "@jupyter-widgets/base",
      "_model_module_version": "1.2.0",
      "_model_name": "LayoutModel",
      "_view_count": null,
      "_view_module": "@jupyter-widgets/base",
      "_view_module_version": "1.2.0",
      "_view_name": "LayoutView",
      "align_content": null,
      "align_items": null,
      "align_self": null,
      "border": null,
      "bottom": null,
      "display": null,
      "flex": null,
      "flex_flow": null,
      "grid_area": null,
      "grid_auto_columns": null,
      "grid_auto_flow": null,
      "grid_auto_rows": null,
      "grid_column": null,
      "grid_gap": null,
      "grid_row": null,
      "grid_template_areas": null,
      "grid_template_columns": null,
      "grid_template_rows": null,
      "height": null,
      "justify_content": null,
      "justify_items": null,
      "left": null,
      "margin": null,
      "max_height": null,
      "max_width": null,
      "min_height": null,
      "min_width": null,
      "object_fit": null,
      "object_position": null,
      "order": null,
      "overflow": null,
      "overflow_x": null,
      "overflow_y": null,
      "padding": null,
      "right": null,
      "top": null,
      "visibility": null,
      "width": null
     }
    },
    "f16dee477cf4412fa468907ca65f16a7": {
     "model_module": "@jupyter-widgets/controls",
     "model_module_version": "1.5.0",
     "model_name": "HTMLModel",
     "state": {
      "_dom_classes": [],
      "_model_module": "@jupyter-widgets/controls",
      "_model_module_version": "1.5.0",
      "_model_name": "HTMLModel",
      "_view_count": null,
      "_view_module": "@jupyter-widgets/controls",
      "_view_module_version": "1.5.0",
      "_view_name": "HTMLView",
      "description": "",
      "description_tooltip": null,
      "layout": "IPY_MODEL_6e5c2be97ce646d6b80a1210c2009e5e",
      "placeholder": "​",
      "style": "IPY_MODEL_21815caec5b5425a80ae8b7ced957790",
      "value": "Map: 100%"
     }
    },
    "fb73d0aaba184b929b5bbae10022d17f": {
     "model_module": "@jupyter-widgets/controls",
     "model_module_version": "1.5.0",
     "model_name": "DescriptionStyleModel",
     "state": {
      "_model_module": "@jupyter-widgets/controls",
      "_model_module_version": "1.5.0",
      "_model_name": "DescriptionStyleModel",
      "_view_count": null,
      "_view_module": "@jupyter-widgets/base",
      "_view_module_version": "1.2.0",
      "_view_name": "StyleView",
      "description_width": ""
     }
    }
   }
  }
 },
 "nbformat": 4,
 "nbformat_minor": 0
}
